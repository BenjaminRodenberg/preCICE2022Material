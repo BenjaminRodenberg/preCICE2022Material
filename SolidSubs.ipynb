{
 "cells": [
  {
   "cell_type": "markdown",
   "id": "2dd77b91",
   "metadata": {},
   "source": [
    "**Disclaimer:** The distributed notebook only serves for demonstration purposes. Jupyter notebooks are not recommended for preCICE development or deployment. Feel free to convert this notebook to a plain python script for improved error messages using `jupyter nbconvert --to python Solver*.ipynb`"
   ]
  },
  {
   "cell_type": "code",
   "execution_count": 1,
   "id": "00f58737",
   "metadata": {},
   "outputs": [],
   "source": [
    "def dummySolidSolver(x, y, dt):\n",
    "    return x + dt * y**2"
   ]
  },
  {
   "cell_type": "code",
   "execution_count": 2,
   "id": "da330fb1",
   "metadata": {
    "scrolled": true
   },
   "outputs": [
    {
     "name": "stdout",
     "output_type": "stream",
     "text": [
      "(0) 18:10:44 [config::ParticipantConfiguration]:352 in xmlTagCallback: \u001b[36mWARNING: \u001b[0mYou configured the read data with name \"dataOne\" to use the waveform-order=\"1\", which is currently still experimental. Use with care.\n",
      "(0) 18:10:44 [impl::SolverInterfaceImpl]:169 in configure: \u001b[0mThis is preCICE version 2.3.0\n",
      "(0) 18:10:44 [impl::SolverInterfaceImpl]:170 in configure: \u001b[0mRevision info: v2.3.0-120-g5b868a24\n",
      "(0) 18:10:44 [impl::SolverInterfaceImpl]:172 in configure: \u001b[0mConfiguration: Debug\n",
      "(0) 18:10:44 [impl::SolverInterfaceImpl]:176 in configure: \u001b[0mConfiguring preCICE with configuration \"precice-config-experimental-both-init.xml\"\n",
      "(0) 18:10:44 [impl::SolverInterfaceImpl]:177 in configure: \u001b[0mI am participant \"SolverTwo\"\n"
     ]
    }
   ],
   "source": [
    "import precice\n",
    "#precice_config = \"precice-config-both-init.xml\"\n",
    "precice_config = \"precice-config-experimental-both-init.xml\"\n",
    "solverInterface = precice.Interface(\"Solid\", precice_config, 0,1)\n",
    "meshId = solverInterface.get_mesh_id(\"Solid-Mesh\")\n",
    "vertexId = solverInterface.set_mesh_vertex(meshId, [1,2,3])\n",
    "readDataId = solverInterface.get_data_id(\"Force\", meshId)\n",
    "writeDataId = solverInterface.get_data_id(\"Displacement\", meshId)"
   ]
  },
  {
   "cell_type": "code",
   "execution_count": 3,
   "id": "677ce7f3",
   "metadata": {
    "scrolled": true
   },
   "outputs": [
    {
     "name": "stdout",
     "output_type": "stream",
     "text": [
      "(0) 18:10:44 [impl::SolverInterfaceImpl]:250 in initialize: \u001b[0mSetting up master communication to coupling partner/s\n",
      "(0) 18:10:48 [impl::SolverInterfaceImpl]:264 in initialize: \u001b[0mMasters are connected\n",
      "(0) 18:10:48 [impl::SolverInterfaceImpl]:268 in initialize: \u001b[0mSetting up preliminary slaves communication to coupling partner/s\n",
      "(0) 18:10:48 [partition::ReceivedPartition]:69 in communicate: \u001b[0mReceive global mesh MeshOne\n",
      "(0) 18:10:48 [partition::ProvidedPartition]:121 in prepare: \u001b[0mPrepare partition for mesh MeshTwo\n",
      "(0) 18:10:48 [impl::SolverInterfaceImpl]:276 in initialize: \u001b[0mSetting up slaves communication to coupling partner/s\n",
      "(0) 18:10:48 [impl::SolverInterfaceImpl]:282 in initialize: \u001b[0mSlaves are connected\n",
      "(0) 18:10:48 [impl::SolverInterfaceImpl]:316 in initialize: \u001b[0miteration: 1 of 2, time-window: 1 of 2, time: 0, time-window-size: 1, max-timestep-length: 1, ongoing: yes, time-window-complete: no, write-initial-data write-iteration-checkpoint \n"
     ]
    }
   ],
   "source": [
    "precice_dt = solverInterface.initialize()"
   ]
  },
  {
   "cell_type": "code",
   "execution_count": 4,
   "id": "fac62ac1",
   "metadata": {},
   "outputs": [],
   "source": [
    "window_size = precice_dt\n",
    "solver_dt = window_size/3\n",
    "time = 0"
   ]
  },
  {
   "cell_type": "markdown",
   "id": "bb21ecf7",
   "metadata": {},
   "source": [
    "### Initialize data\n",
    "optional, if `initialize = \"false\"` or not given"
   ]
  },
  {
   "cell_type": "code",
   "execution_count": 5,
   "id": "90009283",
   "metadata": {},
   "outputs": [],
   "source": [
    "initDisplacement = 2\n",
    "writeData = initDisplacement\n",
    "solverInterface.write_scalar_data(writeDataId, vertexId, writeData)"
   ]
  },
  {
   "cell_type": "code",
   "execution_count": 6,
   "id": "2582ccf5",
   "metadata": {},
   "outputs": [],
   "source": [
    "solverInterface.mark_action_fulfilled(precice.action_write_initial_data())"
   ]
  },
  {
   "cell_type": "code",
   "execution_count": 7,
   "id": "349a8e25",
   "metadata": {},
   "outputs": [
    {
     "name": "stdout",
     "output_type": "stream",
     "text": [
      "(0) 18:10:48 [impl::SolverInterfaceImpl]:1673 in computeMappings: \u001b[0mCompute \"write\" mapping from mesh \"MeshTwo\" to mesh \"MeshOne\".\n",
      "(0) 18:10:48 [mapping::NearestNeighborMapping]:89 in computeMapping: \u001b[0mMapping distance min:0 max:0 avg: 0 var: 0 cnt: 1\n",
      "(0) 18:10:48 [impl::SolverInterfaceImpl]:1673 in computeMappings: \u001b[0mCompute \"read\" mapping from mesh \"MeshOne\" to mesh \"MeshTwo\".\n",
      "(0) 18:10:48 [mapping::NearestNeighborMapping]:89 in computeMapping: \u001b[0mMapping distance min:0 max:0 avg: 0 var: 0 cnt: 1\n"
     ]
    }
   ],
   "source": [
    "solverInterface.initialize_data()"
   ]
  },
  {
   "cell_type": "markdown",
   "id": "94e8a878",
   "metadata": {},
   "source": [
    "### First window, first iteration\n",
    "\n",
    "require to write checkpoint, when entering window:"
   ]
  },
  {
   "cell_type": "code",
   "execution_count": 8,
   "id": "3823d019",
   "metadata": {},
   "outputs": [],
   "source": [
    "solverInterface.mark_action_fulfilled(precice.action_write_iteration_checkpoint())"
   ]
  },
  {
   "cell_type": "markdown",
   "id": "1308084a",
   "metadata": {},
   "source": [
    "#### First subcycle"
   ]
  },
  {
   "cell_type": "code",
   "execution_count": 9,
   "id": "2b24fb0d",
   "metadata": {},
   "outputs": [
    {
     "name": "stdout",
     "output_type": "stream",
     "text": [
      "readData = 1.0\n"
     ]
    }
   ],
   "source": [
    "readData = solverInterface.read_scalar_data(readDataId, vertexId, solver_dt)\n",
    "print(\"readData = {}\".format(readData))"
   ]
  },
  {
   "cell_type": "code",
   "execution_count": 10,
   "id": "6dfdd912",
   "metadata": {
    "scrolled": true
   },
   "outputs": [
    {
     "name": "stdout",
     "output_type": "stream",
     "text": [
      "Start time: 0\n",
      "End time: 0.3333333333333333\n",
      "writeData = 2.3333333333333335\n",
      "precice_dt = 0.6666666666666667\n",
      "(0) 18:10:48 [impl::SolverInterfaceImpl]:456 in advance: \u001b[0miteration: 1 of 2, time-window: 1 of 2, time: 0.333333, time-window-size: 1, max-timestep-length: 0.666667, ongoing: yes, time-window-complete: no, \n"
     ]
    }
   ],
   "source": [
    "print(\"Start time: {}\".format(time))\n",
    "writeData = dummySolidSolver(writeData, readData, solver_dt)\n",
    "time += solver_dt\n",
    "print(\"End time: {}\".format(time))\n",
    "print(\"writeData = {}\".format(writeData))\n",
    "solverInterface.write_scalar_data(writeDataId, vertexId, writeData)\n",
    "precice_dt = solverInterface.advance(solver_dt)\n",
    "print(\"precice_dt = {}\".format(precice_dt))"
   ]
  },
  {
   "cell_type": "markdown",
   "id": "dc8a5b18",
   "metadata": {},
   "source": [
    "#### Second subcycle"
   ]
  },
  {
   "cell_type": "code",
   "execution_count": 11,
   "id": "c8558d5d",
   "metadata": {
    "scrolled": true
   },
   "outputs": [
    {
     "name": "stdout",
     "output_type": "stream",
     "text": [
      "readData = 1.0\n",
      "Start time: 0.3333333333333333\n",
      "End time: 0.6666666666666666\n",
      "writeData = 2.666666666666667\n",
      "precice_dt = 0.33333333333333337\n",
      "(0) 18:10:48 [impl::SolverInterfaceImpl]:456 in advance: \u001b[0miteration: 1 of 2, time-window: 1 of 2, time: 0.666667, time-window-size: 1, max-timestep-length: 0.333333, ongoing: yes, time-window-complete: no, \n"
     ]
    }
   ],
   "source": [
    "readData = solverInterface.read_scalar_data(readDataId, vertexId, solver_dt)\n",
    "print(\"readData = {}\".format(readData))\n",
    "print(\"Start time: {}\".format(time))\n",
    "writeData = dummySolidSolver(writeData, readData, solver_dt)\n",
    "time += solver_dt\n",
    "print(\"End time: {}\".format(time))\n",
    "print(\"writeData = {}\".format(writeData))\n",
    "solverInterface.write_scalar_data(writeDataId, vertexId, writeData)\n",
    "precice_dt = solverInterface.advance(solver_dt)\n",
    "print(\"precice_dt = {}\".format(precice_dt))"
   ]
  },
  {
   "cell_type": "markdown",
   "id": "c7d01f42",
   "metadata": {},
   "source": [
    "#### Third subcycle"
   ]
  },
  {
   "cell_type": "code",
   "execution_count": 12,
   "id": "88c5265a",
   "metadata": {
    "scrolled": true
   },
   "outputs": [
    {
     "name": "stdout",
     "output_type": "stream",
     "text": [
      "readData = 1.0\n",
      "Start time: 0.6666666666666666\n",
      "End time: 1.0\n",
      "writeData = 3.0000000000000004\n",
      "precice_dt = 1.0(0) 18:10:48 [cplscheme::BaseCouplingScheme]:542 in measureConvergence: \u001b[0mmin iteration convergence measure: #it = 1 of 5, conv = false\n",
      "(0) 18:10:48 [impl::SolverInterfaceImpl]:456 in advance: \u001b[0miteration: 2 of 2, time-window: 1 of 2, time: 0, time-window-size: 1, max-timestep-length: 1, ongoing: yes, time-window-complete: no, read-iteration-checkpoint \n",
      "\n"
     ]
    }
   ],
   "source": [
    "readData = solverInterface.read_scalar_data(readDataId, vertexId, solver_dt)\n",
    "print(\"readData = {}\".format(readData))\n",
    "print(\"Start time: {}\".format(time))\n",
    "writeData = dummySolidSolver(writeData, readData, solver_dt)\n",
    "time += solver_dt\n",
    "print(\"End time: {}\".format(time))\n",
    "print(\"writeData = {}\".format(writeData))\n",
    "solverInterface.write_scalar_data(writeDataId, vertexId, writeData)\n",
    "precice_dt = solverInterface.advance(solver_dt)\n",
    "print(\"precice_dt = {}\".format(precice_dt))"
   ]
  },
  {
   "cell_type": "code",
   "execution_count": 13,
   "id": "9f3f4634",
   "metadata": {},
   "outputs": [
    {
     "data": {
      "text/plain": [
       "False"
      ]
     },
     "execution_count": 13,
     "metadata": {},
     "output_type": "execute_result"
    }
   ],
   "source": [
    "solverInterface.is_time_window_complete()"
   ]
  },
  {
   "cell_type": "markdown",
   "id": "b78bccf0",
   "metadata": {},
   "source": [
    "### First window, second iteration\n",
    "require to read checkpoint, when repeating window:"
   ]
  },
  {
   "cell_type": "code",
   "execution_count": 14,
   "id": "948d9b40",
   "metadata": {},
   "outputs": [],
   "source": [
    "solverInterface.mark_action_fulfilled(precice.action_read_iteration_checkpoint())"
   ]
  },
  {
   "cell_type": "markdown",
   "id": "a15caa56",
   "metadata": {},
   "source": [
    "#### First subcycle"
   ]
  },
  {
   "cell_type": "code",
   "execution_count": 15,
   "id": "5f9a634e",
   "metadata": {},
   "outputs": [
    {
     "name": "stdout",
     "output_type": "stream",
     "text": [
      "readData = 0.3333333333333334\n"
     ]
    }
   ],
   "source": [
    "readData = solverInterface.read_scalar_data(readDataId, vertexId, solver_dt)\n",
    "print(\"readData = {}\".format(readData))"
   ]
  },
  {
   "cell_type": "code",
   "execution_count": 16,
   "id": "f79c11f8",
   "metadata": {},
   "outputs": [
    {
     "name": "stdout",
     "output_type": "stream",
     "text": [
      "Start time: 1.0\n",
      "End time: 1.3333333333333333\n"
     ]
    }
   ],
   "source": [
    "print(\"Start time: {}\".format(time))\n",
    "writeData = dummySolidSolver(writeData, readData, solver_dt)\n",
    "time += solver_dt\n",
    "print(\"End time: {}\".format(time))"
   ]
  },
  {
   "cell_type": "code",
   "execution_count": 17,
   "id": "485298b2",
   "metadata": {},
   "outputs": [
    {
     "name": "stdout",
     "output_type": "stream",
     "text": [
      "writeData = 3.0370370370370376\n"
     ]
    }
   ],
   "source": [
    "print(\"writeData = {}\".format(writeData))\n",
    "solverInterface.write_scalar_data(writeDataId, vertexId, writeData)"
   ]
  },
  {
   "cell_type": "code",
   "execution_count": 18,
   "id": "90b4a407",
   "metadata": {
    "scrolled": false
   },
   "outputs": [
    {
     "name": "stdout",
     "output_type": "stream",
     "text": [
      "precice_dt = 0.6666666666666667\n",
      "(0) 18:10:48 [impl::SolverInterfaceImpl]:456 in advance: \u001b[0miteration: 2 of 2, time-window: 1 of 2, time: 0.333333, time-window-size: 1, max-timestep-length: 0.666667, ongoing: yes, time-window-complete: no, \n"
     ]
    }
   ],
   "source": [
    "precice_dt = solverInterface.advance(solver_dt)\n",
    "print(\"precice_dt = {}\".format(precice_dt))"
   ]
  },
  {
   "cell_type": "markdown",
   "id": "9ec946e3",
   "metadata": {},
   "source": [
    "#### Second subcycle"
   ]
  },
  {
   "cell_type": "code",
   "execution_count": 19,
   "id": "9844918c",
   "metadata": {
    "scrolled": true
   },
   "outputs": [
    {
     "name": "stdout",
     "output_type": "stream",
     "text": [
      "readData = -0.33333333333333304\n",
      "Start time: 1.3333333333333333\n",
      "End time: 1.6666666666666665\n",
      "writeData = 3.0740740740740744\n",
      "precice_dt = 0.33333333333333337(0) 18:10:48 [impl::SolverInterfaceImpl]:456 in advance: \u001b[0miteration: 2 of 2, time-window: 1 of 2, time: 0.666667, time-window-size: 1, max-timestep-length: 0.333333, ongoing: yes, time-window-complete: no, \n",
      "\n"
     ]
    }
   ],
   "source": [
    "readData = solverInterface.read_scalar_data(readDataId, vertexId, solver_dt)\n",
    "print(\"readData = {}\".format(readData))\n",
    "print(\"Start time: {}\".format(time))\n",
    "writeData = dummySolidSolver(writeData, readData, solver_dt)\n",
    "time += solver_dt\n",
    "print(\"End time: {}\".format(time))\n",
    "print(\"writeData = {}\".format(writeData))\n",
    "solverInterface.write_scalar_data(writeDataId, vertexId, writeData)\n",
    "precice_dt = solverInterface.advance(solver_dt)\n",
    "print(\"precice_dt = {}\".format(precice_dt))"
   ]
  },
  {
   "cell_type": "markdown",
   "id": "b10ea893",
   "metadata": {},
   "source": [
    "#### Third subcycle"
   ]
  },
  {
   "cell_type": "code",
   "execution_count": 20,
   "id": "d73d8a42",
   "metadata": {
    "scrolled": true
   },
   "outputs": [
    {
     "name": "stdout",
     "output_type": "stream",
     "text": [
      "readData = -1.0\n",
      "Start time: 1.6666666666666665\n",
      "End time: 1.9999999999999998\n",
      "writeData = 3.407407407407408\n",
      "precice_dt = 1.0(0) 18:10:49 [cplscheme::BaseCouplingScheme]:542 in measureConvergence: \u001b[0mmin iteration convergence measure: #it = 2 of 5, conv = false\n",
      "(0) 18:10:49 [cplscheme::BaseCouplingScheme]:231 in advance: \u001b[0mTime window completed\n",
      "(0) 18:10:49 [impl::SolverInterfaceImpl]:456 in advance: \u001b[0miteration: 1 of 2, time-window: 2 of 2, time: 1, time-window-size: 1, max-timestep-length: 1, ongoing: yes, time-window-complete: yes, write-iteration-checkpoint \n",
      "\n"
     ]
    }
   ],
   "source": [
    "readData = solverInterface.read_scalar_data(readDataId, vertexId, solver_dt)\n",
    "print(\"readData = {}\".format(readData))\n",
    "print(\"Start time: {}\".format(time))\n",
    "writeData = dummySolidSolver(writeData, readData, solver_dt)\n",
    "time += solver_dt\n",
    "print(\"End time: {}\".format(time))\n",
    "print(\"writeData = {}\".format(writeData))\n",
    "solverInterface.write_scalar_data(writeDataId, vertexId, writeData)\n",
    "precice_dt = solverInterface.advance(solver_dt)\n",
    "print(\"precice_dt = {}\".format(precice_dt))"
   ]
  },
  {
   "cell_type": "code",
   "execution_count": 21,
   "id": "61071917",
   "metadata": {},
   "outputs": [
    {
     "data": {
      "text/plain": [
       "True"
      ]
     },
     "execution_count": 21,
     "metadata": {},
     "output_type": "execute_result"
    }
   ],
   "source": [
    "solverInterface.is_time_window_complete()"
   ]
  },
  {
   "cell_type": "markdown",
   "id": "ed0080d7",
   "metadata": {},
   "source": [
    "### Second window:\n",
    "... same procedure as before."
   ]
  },
  {
   "cell_type": "code",
   "execution_count": 22,
   "id": "a25c5808",
   "metadata": {
    "scrolled": true
   },
   "outputs": [
    {
     "name": "stdout",
     "output_type": "stream",
     "text": [
      "readData = -2.0\n",
      "writeData = 4.740740740740741\n",
      "precice_dt = 0.6666666666666667\n",
      "(0) 18:10:49 [impl::SolverInterfaceImpl]:456 in advance: \u001b[0miteration: 1 of 2, time-window: 2 of 2, time: 1.33333, time-window-size: 1, max-timestep-length: 0.666667, ongoing: yes, time-window-complete: no, \n",
      "window = 2\n",
      "iteration = 1\n",
      "readData = -2.9999999999999996\n",
      "writeData = 7.7407407407407405\n",
      "precice_dt = 0.33333333333333337\n",
      "window = 2\n",
      "iteration = 1\n",
      "readData = -4.0\n",
      "writeData = 13.074074074074073\n",
      "precice_dt = 1.0\n",
      "window = 2\n",
      "iteration = 2\n",
      "readData = -3.135802469135803(0) 18:10:49 [impl::SolverInterfaceImpl]:456 in advance: \u001b[0miteration: 1 of 2, time-window: 2 of 2, time: 1.66667, time-window-size: 1, max-timestep-length: 0.333333, ongoing: yes, time-window-complete: no, \n",
      "(0) 18:10:49 [cplscheme::BaseCouplingScheme]:542 in measureConvergence: \u001b[0mmin iteration convergence measure: #it = 1 of 5, conv = false\n",
      "(0) 18:10:49 [impl::SolverInterfaceImpl]:456 in advance: \u001b[0miteration: 2 of 2, time-window: 2 of 2, time: 1, time-window-size: 1, max-timestep-length: 1, ongoing: yes, time-window-complete: no, read-iteration-checkpoint \n",
      "\n",
      "writeData = 16.35182644922014\n",
      "precice_dt = 0.6666666666666667(0) 18:10:49 [impl::SolverInterfaceImpl]:456 in advance: \u001b[0miteration: 2 of 2, time-window: 2 of 2, time: 1.33333, time-window-size: 1, max-timestep-length: 0.666667, ongoing: yes, time-window-complete: no, \n",
      "\n",
      "window = 2\n",
      "iteration = 2\n",
      "readData = -5.271604938271604\n",
      "writeData = 25.615099324289996\n",
      "precice_dt = 0.33333333333333337\n",
      "window = 2\n",
      "(0) 18:10:49 [impl::SolverInterfaceImpl]:456 in advance: \u001b[0miteration: 2 of 2, time-window: 2 of 2, time: 1.66667, time-window-size: 1, max-timestep-length: 0.333333, ongoing: yes, time-window-complete: no, \n",
      "iteration = 2\n",
      "readData = -7.407407407407408\n",
      "writeData = 43.90499415739471\n",
      "(0) 18:10:49 [cplscheme::BaseCouplingScheme]:542 in measureConvergence: \u001b[0mmin iteration convergence measure: #it = 2 of 5, conv = false\n",
      "precice_dt = 1.0(0) 18:10:49 [cplscheme::BaseCouplingScheme]:231 in advance: \u001b[0mTime window completed\n",
      "(0) 18:10:49 [impl::SolverInterfaceImpl]:456 in advance: \u001b[0miteration: 1 of 2, time-window: 3 of 2, time: 2, time-window-size: 1, max-timestep-length: 1, ongoing: no, time-window-complete: yes, \n",
      "\n",
      "Done!\n",
      "(0) 18:10:49 [impl::SolverInterfaceImpl]:1863 in closeCommunicationChannels: \u001b[0mSynchronize participants and close communication channels\n"
     ]
    }
   ],
   "source": [
    "window = 2\n",
    "iteration = 1\n",
    "\n",
    "while solverInterface.is_coupling_ongoing():\n",
    "    if solverInterface.is_action_required(precice.action_write_iteration_checkpoint()):\n",
    "        solverInterface.mark_action_fulfilled(precice.action_write_iteration_checkpoint())\n",
    "        \n",
    "    readData = solverInterface.read_scalar_data(readDataId, vertexId, solver_dt)\n",
    "    print(\"readData = {}\".format(readData))\n",
    "    \n",
    "    writeData = dummySolidSolver(writeData, readData, solver_dt)\n",
    "    \n",
    "    print(\"writeData = {}\".format(writeData))\n",
    "    solverInterface.write_scalar_data(writeDataId, vertexId, writeData)\n",
    "    \n",
    "    precice_dt = solverInterface.advance(solver_dt)\n",
    "    print(\"precice_dt = {}\".format(precice_dt))\n",
    "    \n",
    "    if solverInterface.is_time_window_complete():\n",
    "        window += 1\n",
    "        iteration = 1\n",
    "    if solverInterface.is_action_required(precice.action_read_iteration_checkpoint()):\n",
    "        iteration += 1\n",
    "    \n",
    "    if solverInterface.is_coupling_ongoing():\n",
    "        print(\"window = {}\".format(window))\n",
    "        print(\"iteration = {}\".format(iteration))\n",
    "        \n",
    "    if solverInterface.is_action_required(precice.action_read_iteration_checkpoint()):\n",
    "        solverInterface.mark_action_fulfilled(precice.action_read_iteration_checkpoint())\n",
    "        \n",
    "print(\"Done!\")\n",
    "solverInterface.finalize()"
   ]
  }
 ],
 "metadata": {
  "kernelspec": {
   "display_name": "Python 3 (ipykernel)",
   "language": "python",
   "name": "python3"
  },
  "language_info": {
   "codemirror_mode": {
    "name": "ipython",
    "version": 3
   },
   "file_extension": ".py",
   "mimetype": "text/x-python",
   "name": "python",
   "nbconvert_exporter": "python",
   "pygments_lexer": "ipython3",
   "version": "3.8.10"
  }
 },
 "nbformat": 4,
 "nbformat_minor": 5
}
