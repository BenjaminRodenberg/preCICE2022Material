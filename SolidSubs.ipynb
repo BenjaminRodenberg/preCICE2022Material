{
 "cells": [
  {
   "cell_type": "markdown",
   "id": "2dd77b91",
   "metadata": {},
   "source": [
    "**Disclaimer:** The distributed notebook only serves for demonstration purposes. Jupyter notebooks are not recommended for preCICE development or deployment. Feel free to convert this notebook to a plain python script for improved error messages using `jupyter nbconvert --to python Solver*.ipynb`"
   ]
  },
  {
   "cell_type": "code",
   "execution_count": null,
   "id": "00f58737",
   "metadata": {},
   "outputs": [],
   "source": [
    "def dummySolidSolver(x, y, dt):\n",
    "    return x + dt * y**2"
   ]
  },
  {
   "cell_type": "code",
   "execution_count": null,
   "id": "da330fb1",
   "metadata": {
    "scrolled": true
   },
   "outputs": [],
   "source": [
    "import precice\n",
    "#precice_config = \"precice-config-both-init.xml\"\n",
    "precice_config = \"precice-config-experimental-both-init.xml\"\n",
    "solverInterface = precice.Interface(\"Solid\", precice_config, 0,1)\n",
    "meshId = solverInterface.get_mesh_id(\"Solid-Mesh\")\n",
    "vertexId = solverInterface.set_mesh_vertex(meshId, [1,2,3])\n",
    "readDataId = solverInterface.get_data_id(\"Force\", meshId)\n",
    "writeDataId = solverInterface.get_data_id(\"Displacement\", meshId)"
   ]
  },
  {
   "cell_type": "code",
   "execution_count": null,
   "id": "677ce7f3",
   "metadata": {
    "scrolled": true
   },
   "outputs": [],
   "source": [
    "precice_dt = solverInterface.initialize()"
   ]
  },
  {
   "cell_type": "code",
   "execution_count": null,
   "id": "fac62ac1",
   "metadata": {},
   "outputs": [],
   "source": [
    "window_size = precice_dt\n",
    "solver_dt = window_size/3\n",
    "time = 0"
   ]
  },
  {
   "cell_type": "markdown",
   "id": "bb21ecf7",
   "metadata": {},
   "source": [
    "### Initialize data\n",
    "optional, if `initialize = \"false\"` or not given"
   ]
  },
  {
   "cell_type": "code",
   "execution_count": null,
   "id": "90009283",
   "metadata": {},
   "outputs": [],
   "source": [
    "initDisplacement = 2\n",
    "writeData = initDisplacement\n",
    "solverInterface.write_scalar_data(writeDataId, vertexId, writeData)"
   ]
  },
  {
   "cell_type": "code",
   "execution_count": null,
   "id": "2582ccf5",
   "metadata": {},
   "outputs": [],
   "source": [
    "solverInterface.mark_action_fulfilled(precice.action_write_initial_data())"
   ]
  },
  {
   "cell_type": "code",
   "execution_count": null,
   "id": "349a8e25",
   "metadata": {},
   "outputs": [],
   "source": [
    "solverInterface.initialize_data()"
   ]
  },
  {
   "cell_type": "markdown",
   "id": "94e8a878",
   "metadata": {},
   "source": [
    "### First window, first iteration\n",
    "\n",
    "require to write checkpoint, when entering window:"
   ]
  },
  {
   "cell_type": "code",
   "execution_count": null,
   "id": "3823d019",
   "metadata": {},
   "outputs": [],
   "source": [
    "solverInterface.mark_action_fulfilled(precice.action_write_iteration_checkpoint())"
   ]
  },
  {
   "cell_type": "markdown",
   "id": "1308084a",
   "metadata": {},
   "source": [
    "#### First subcycle"
   ]
  },
  {
   "cell_type": "code",
   "execution_count": null,
   "id": "2b24fb0d",
   "metadata": {},
   "outputs": [],
   "source": [
    "readData = solverInterface.read_scalar_data(readDataId, vertexId, solver_dt)\n",
    "print(\"readData = {}\".format(readData))"
   ]
  },
  {
   "cell_type": "code",
   "execution_count": null,
   "id": "6dfdd912",
   "metadata": {
    "scrolled": true
   },
   "outputs": [],
   "source": [
    "print(\"Start time: {}\".format(time))\n",
    "writeData = dummySolidSolver(writeData, readData, solver_dt)\n",
    "time += solver_dt\n",
    "print(\"End time: {}\".format(time))\n",
    "print(\"writeData = {}\".format(writeData))\n",
    "solverInterface.write_scalar_data(writeDataId, vertexId, writeData)\n",
    "precice_dt = solverInterface.advance(solver_dt)\n",
    "print(\"precice_dt = {}\".format(precice_dt))"
   ]
  },
  {
   "cell_type": "markdown",
   "id": "dc8a5b18",
   "metadata": {},
   "source": [
    "#### Second subcycle"
   ]
  },
  {
   "cell_type": "code",
   "execution_count": null,
   "id": "c8558d5d",
   "metadata": {
    "scrolled": true
   },
   "outputs": [],
   "source": [
    "readData = solverInterface.read_scalar_data(readDataId, vertexId, solver_dt)\n",
    "print(\"readData = {}\".format(readData))\n",
    "print(\"Start time: {}\".format(time))\n",
    "writeData = dummySolidSolver(writeData, readData, solver_dt)\n",
    "time += solver_dt\n",
    "print(\"End time: {}\".format(time))\n",
    "print(\"writeData = {}\".format(writeData))\n",
    "solverInterface.write_scalar_data(writeDataId, vertexId, writeData)\n",
    "precice_dt = solverInterface.advance(solver_dt)\n",
    "print(\"precice_dt = {}\".format(precice_dt))"
   ]
  },
  {
   "cell_type": "markdown",
   "id": "c7d01f42",
   "metadata": {},
   "source": [
    "#### Third subcycle"
   ]
  },
  {
   "cell_type": "code",
   "execution_count": null,
   "id": "88c5265a",
   "metadata": {
    "scrolled": true
   },
   "outputs": [],
   "source": [
    "readData = solverInterface.read_scalar_data(readDataId, vertexId, solver_dt)\n",
    "print(\"readData = {}\".format(readData))\n",
    "print(\"Start time: {}\".format(time))\n",
    "writeData = dummySolidSolver(writeData, readData, solver_dt)\n",
    "time += solver_dt\n",
    "print(\"End time: {}\".format(time))\n",
    "print(\"writeData = {}\".format(writeData))\n",
    "solverInterface.write_scalar_data(writeDataId, vertexId, writeData)\n",
    "precice_dt = solverInterface.advance(solver_dt)\n",
    "print(\"precice_dt = {}\".format(precice_dt))"
   ]
  },
  {
   "cell_type": "code",
   "execution_count": null,
   "id": "9f3f4634",
   "metadata": {},
   "outputs": [],
   "source": [
    "solverInterface.is_time_window_complete()"
   ]
  },
  {
   "cell_type": "markdown",
   "id": "b78bccf0",
   "metadata": {},
   "source": [
    "### First window, second iteration\n",
    "require to read checkpoint, when repeating window:"
   ]
  },
  {
   "cell_type": "code",
   "execution_count": null,
   "id": "948d9b40",
   "metadata": {},
   "outputs": [],
   "source": [
    "solverInterface.mark_action_fulfilled(precice.action_read_iteration_checkpoint())"
   ]
  },
  {
   "cell_type": "markdown",
   "id": "a15caa56",
   "metadata": {},
   "source": [
    "#### First subcycle"
   ]
  },
  {
   "cell_type": "code",
   "execution_count": null,
   "id": "5f9a634e",
   "metadata": {},
   "outputs": [],
   "source": [
    "readData = solverInterface.read_scalar_data(readDataId, vertexId, solver_dt)\n",
    "print(\"readData = {}\".format(readData))"
   ]
  },
  {
   "cell_type": "code",
   "execution_count": null,
   "id": "f79c11f8",
   "metadata": {},
   "outputs": [],
   "source": [
    "print(\"Start time: {}\".format(time))\n",
    "writeData = dummySolidSolver(writeData, readData, solver_dt)\n",
    "time += solver_dt\n",
    "print(\"End time: {}\".format(time))"
   ]
  },
  {
   "cell_type": "code",
   "execution_count": null,
   "id": "485298b2",
   "metadata": {},
   "outputs": [],
   "source": [
    "print(\"writeData = {}\".format(writeData))\n",
    "solverInterface.write_scalar_data(writeDataId, vertexId, writeData)"
   ]
  },
  {
   "cell_type": "code",
   "execution_count": null,
   "id": "90b4a407",
   "metadata": {
    "scrolled": false
   },
   "outputs": [],
   "source": [
    "precice_dt = solverInterface.advance(solver_dt)\n",
    "print(\"precice_dt = {}\".format(precice_dt))"
   ]
  },
  {
   "cell_type": "markdown",
   "id": "9ec946e3",
   "metadata": {},
   "source": [
    "#### Second subcycle"
   ]
  },
  {
   "cell_type": "code",
   "execution_count": null,
   "id": "9844918c",
   "metadata": {
    "scrolled": true
   },
   "outputs": [],
   "source": [
    "readData = solverInterface.read_scalar_data(readDataId, vertexId, solver_dt)\n",
    "print(\"readData = {}\".format(readData))\n",
    "print(\"Start time: {}\".format(time))\n",
    "writeData = dummySolidSolver(writeData, readData, solver_dt)\n",
    "time += solver_dt\n",
    "print(\"End time: {}\".format(time))\n",
    "print(\"writeData = {}\".format(writeData))\n",
    "solverInterface.write_scalar_data(writeDataId, vertexId, writeData)\n",
    "precice_dt = solverInterface.advance(solver_dt)\n",
    "print(\"precice_dt = {}\".format(precice_dt))"
   ]
  },
  {
   "cell_type": "markdown",
   "id": "b10ea893",
   "metadata": {},
   "source": [
    "#### Third subcycle"
   ]
  },
  {
   "cell_type": "code",
   "execution_count": null,
   "id": "d73d8a42",
   "metadata": {
    "scrolled": true
   },
   "outputs": [],
   "source": [
    "readData = solverInterface.read_scalar_data(readDataId, vertexId, solver_dt)\n",
    "print(\"readData = {}\".format(readData))\n",
    "print(\"Start time: {}\".format(time))\n",
    "writeData = dummySolidSolver(writeData, readData, solver_dt)\n",
    "time += solver_dt\n",
    "print(\"End time: {}\".format(time))\n",
    "print(\"writeData = {}\".format(writeData))\n",
    "solverInterface.write_scalar_data(writeDataId, vertexId, writeData)\n",
    "precice_dt = solverInterface.advance(solver_dt)\n",
    "print(\"precice_dt = {}\".format(precice_dt))"
   ]
  },
  {
   "cell_type": "code",
   "execution_count": null,
   "id": "61071917",
   "metadata": {},
   "outputs": [],
   "source": [
    "solverInterface.is_time_window_complete()"
   ]
  },
  {
   "cell_type": "markdown",
   "id": "ed0080d7",
   "metadata": {},
   "source": [
    "### Second window:\n",
    "... same procedure as before."
   ]
  },
  {
   "cell_type": "code",
   "execution_count": null,
   "id": "a25c5808",
   "metadata": {
    "scrolled": true
   },
   "outputs": [],
   "source": [
    "window = 2\n",
    "iteration = 1\n",
    "\n",
    "while solverInterface.is_coupling_ongoing():\n",
    "    if solverInterface.is_action_required(precice.action_write_iteration_checkpoint()):\n",
    "        solverInterface.mark_action_fulfilled(precice.action_write_iteration_checkpoint())\n",
    "        \n",
    "    readData = solverInterface.read_scalar_data(readDataId, vertexId, solver_dt)\n",
    "    print(\"readData = {}\".format(readData))\n",
    "    \n",
    "    writeData = dummySolidSolver(writeData, readData, solver_dt)\n",
    "    \n",
    "    print(\"writeData = {}\".format(writeData))\n",
    "    solverInterface.write_scalar_data(writeDataId, vertexId, writeData)\n",
    "    \n",
    "    precice_dt = solverInterface.advance(solver_dt)\n",
    "    print(\"precice_dt = {}\".format(precice_dt))\n",
    "    \n",
    "    if solverInterface.is_time_window_complete():\n",
    "        window += 1\n",
    "        iteration = 1\n",
    "    if solverInterface.is_action_required(precice.action_read_iteration_checkpoint()):\n",
    "        iteration += 1\n",
    "    \n",
    "    if solverInterface.is_coupling_ongoing():\n",
    "        print(\"window = {}\".format(window))\n",
    "        print(\"iteration = {}\".format(iteration))\n",
    "        \n",
    "    if solverInterface.is_action_required(precice.action_read_iteration_checkpoint()):\n",
    "        solverInterface.mark_action_fulfilled(precice.action_read_iteration_checkpoint())\n",
    "        \n",
    "print(\"Done!\")\n",
    "solverInterface.finalize()"
   ]
  }
 ],
 "metadata": {
  "kernelspec": {
   "display_name": "Python 3 (ipykernel)",
   "language": "python",
   "name": "python3"
  },
  "language_info": {
   "codemirror_mode": {
    "name": "ipython",
    "version": 3
   },
   "file_extension": ".py",
   "mimetype": "text/x-python",
   "name": "python",
   "nbconvert_exporter": "python",
   "pygments_lexer": "ipython3",
   "version": "3.8.10"
  }
 },
 "nbformat": 4,
 "nbformat_minor": 5
}
