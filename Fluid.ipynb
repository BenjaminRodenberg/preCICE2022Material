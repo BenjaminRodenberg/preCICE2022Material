{
 "cells": [
  {
   "cell_type": "markdown",
   "id": "5effac66",
   "metadata": {},
   "source": [
    "**Disclaimer:** The distributed notebook only serves for demonstration purposes. Jupyter notebooks are not recommended for preCICE development or deployment. Feel free to convert this notebook to a plain python script for improved error messages using `jupyter nbconvert --to python Solver*.ipynb`"
   ]
  },
  {
   "cell_type": "code",
   "execution_count": 1,
   "id": "e507172a",
   "metadata": {},
   "outputs": [],
   "source": [
    "def dummyFluidSolver(x, y, dt):\n",
    "    return x + dt * (-y)"
   ]
  },
  {
   "cell_type": "code",
   "execution_count": 2,
   "id": "2dc049f1",
   "metadata": {
    "scrolled": false
   },
   "outputs": [
    {
     "name": "stdout",
     "output_type": "stream",
     "text": [
      "(0) 17:58:44 [impl::SolverInterfaceImpl]:169 in configure: \u001b[0mThis is preCICE version 2.3.0\n",
      "(0) 17:58:44 [impl::SolverInterfaceImpl]:170 in configure: \u001b[0mRevision info: v2.3.0-120-g5b868a24\n",
      "(0) 17:58:44 [impl::SolverInterfaceImpl]:172 in configure: \u001b[0mConfiguration: Debug\n",
      "(0) 17:58:44 [impl::SolverInterfaceImpl]:176 in configure: \u001b[0mConfiguring preCICE with configuration \"precice-config-init-serial.xml\"\n",
      "(0) 17:58:44 [impl::SolverInterfaceImpl]:177 in configure: \u001b[0mI am participant \"Fluid\"\n"
     ]
    }
   ],
   "source": [
    "import precice\n",
    "#precice_config = \"precice-config-both-init.xml\"\n",
    "#precice_config = \"precice-config-init-serial.xml\"\n",
    "precice_config = \"precice-config-experimental-both-init.xml\"\n",
    "interface = precice.Interface(\"Fluid\", precice_config, 0,1)\n",
    "meshId = interface.get_mesh_id(\"Fluid-Mesh\")\n",
    "vertexId = interface.set_mesh_vertex(meshId, [1,2,3])\n",
    "writeDataId = interface.get_data_id(\"Force\", meshId)\n",
    "readDataId = interface.get_data_id(\"Displacement\", meshId)"
   ]
  },
  {
   "cell_type": "code",
   "execution_count": 3,
   "id": "0b04f590",
   "metadata": {
    "scrolled": true
   },
   "outputs": [
    {
     "name": "stdout",
     "output_type": "stream",
     "text": [
      "(0) 17:58:44 [impl::SolverInterfaceImpl]:250 in initialize: \u001b[0mSetting up master communication to coupling partner/s\n",
      "(0) 17:58:48 [impl::SolverInterfaceImpl]:264 in initialize: \u001b[0mMasters are connected\n",
      "(0) 17:58:48 [impl::SolverInterfaceImpl]:268 in initialize: \u001b[0mSetting up preliminary slaves communication to coupling partner/s\n",
      "(0) 17:58:48 [partition::ProvidedPartition]:121 in prepare: \u001b[0mPrepare partition for mesh Fluid-Mesh\n",
      "(0) 17:58:48 [partition::ProvidedPartition]:88 in communicate: \u001b[0mGather mesh Fluid-Mesh\n",
      "(0) 17:58:48 [partition::ProvidedPartition]:105 in communicate: \u001b[0mSend global mesh Fluid-Mesh\n",
      "(0) 17:58:48 [impl::SolverInterfaceImpl]:276 in initialize: \u001b[0mSetting up slaves communication to coupling partner/s\n",
      "(0) 17:58:48 [impl::SolverInterfaceImpl]:282 in initialize: \u001b[0mSlaves are connected\n",
      "(0) 17:58:48 [impl::SolverInterfaceImpl]:316 in initialize: \u001b[0miteration: 1 of 2, time-window: 1 of 2, time: 0, time-window-size: 1, max-timestep-length: 1, ongoing: yes, time-window-complete: no, write-iteration-checkpoint \n"
     ]
    }
   ],
   "source": [
    "precice_dt = interface.initialize()"
   ]
  },
  {
   "cell_type": "markdown",
   "id": "7b55bfda",
   "metadata": {},
   "source": [
    "### Initialize data\n",
    "optional, if `initialize = \"false\"` or not given"
   ]
  },
  {
   "cell_type": "code",
   "execution_count": 4,
   "id": "bd3c348c",
   "metadata": {},
   "outputs": [],
   "source": [
    "initForce = 1\n",
    "writeData = initForce\n",
    "interface.write_scalar_data(writeDataId, vertexId, writeData)"
   ]
  },
  {
   "cell_type": "code",
   "execution_count": 5,
   "id": "747d5e9f",
   "metadata": {},
   "outputs": [],
   "source": [
    "interface.mark_action_fulfilled(precice.action_write_initial_data())"
   ]
  },
  {
   "cell_type": "code",
   "execution_count": 6,
   "id": "c33e43bc",
   "metadata": {},
   "outputs": [],
   "source": [
    "interface.initialize_data()"
   ]
  },
  {
   "cell_type": "markdown",
   "id": "595b2f6a",
   "metadata": {},
   "source": [
    "### First window, first iteration\n",
    "require to write checkpoint, when entering window:"
   ]
  },
  {
   "cell_type": "code",
   "execution_count": 7,
   "id": "000e7f0c",
   "metadata": {},
   "outputs": [],
   "source": [
    "interface.mark_action_fulfilled(precice.action_write_iteration_checkpoint())"
   ]
  },
  {
   "cell_type": "code",
   "execution_count": 8,
   "id": "0888de72",
   "metadata": {
    "scrolled": true
   },
   "outputs": [
    {
     "name": "stdout",
     "output_type": "stream",
     "text": [
      "readData = 2.0\n"
     ]
    }
   ],
   "source": [
    "readData = interface.read_scalar_data(readDataId, vertexId)\n",
    "print(\"readData = {}\".format(readData))"
   ]
  },
  {
   "cell_type": "code",
   "execution_count": 9,
   "id": "e02b4fe5",
   "metadata": {
    "scrolled": true
   },
   "outputs": [],
   "source": [
    "writeData = dummyFluidSolver(writeData, readData, precice_dt)"
   ]
  },
  {
   "cell_type": "code",
   "execution_count": 10,
   "id": "152c6268",
   "metadata": {},
   "outputs": [
    {
     "name": "stdout",
     "output_type": "stream",
     "text": [
      "writeData = -1.0\n"
     ]
    }
   ],
   "source": [
    "print(\"writeData = {}\".format(writeData))\n",
    "interface.write_scalar_data(writeDataId, vertexId, writeData)"
   ]
  },
  {
   "cell_type": "code",
   "execution_count": 11,
   "id": "f0671d9c",
   "metadata": {
    "scrolled": true
   },
   "outputs": [
    {
     "name": "stdout",
     "output_type": "stream",
     "text": [
      "precice_dt = 1.0\n",
      "(0) 18:02:33 [impl::SolverInterfaceImpl]:456 in advance: \u001b[0miteration: 2 of 2, time-window: 1 of 2, time: 0, time-window-size: 1, max-timestep-length: 1, ongoing: yes, time-window-complete: no, read-iteration-checkpoint \n"
     ]
    }
   ],
   "source": [
    "precice_dt = interface.advance(precice_dt)\n",
    "print(\"precice_dt = {}\".format(precice_dt))"
   ]
  },
  {
   "cell_type": "code",
   "execution_count": null,
   "id": "c4b86a1b",
   "metadata": {},
   "outputs": [],
   "source": [
    "interface.is_time_window_complete()"
   ]
  },
  {
   "cell_type": "markdown",
   "id": "cfa1917a",
   "metadata": {},
   "source": [
    "### First window, second iteration\n",
    "require to read checkpoint, when repeating window:"
   ]
  },
  {
   "cell_type": "code",
   "execution_count": null,
   "id": "e4d98a1a",
   "metadata": {},
   "outputs": [],
   "source": [
    "interface.mark_action_fulfilled(precice.action_read_iteration_checkpoint())"
   ]
  },
  {
   "cell_type": "code",
   "execution_count": null,
   "id": "33e4b7b4",
   "metadata": {},
   "outputs": [],
   "source": [
    "readData = interface.read_scalar_data(readDataId, vertexId)\n",
    "print(\"readData = {}\".format(readData))"
   ]
  },
  {
   "cell_type": "code",
   "execution_count": null,
   "id": "9a9d5c9f",
   "metadata": {},
   "outputs": [],
   "source": [
    "writeData = dummyFluidSolver(writeData, readData, precice_dt)"
   ]
  },
  {
   "cell_type": "code",
   "execution_count": null,
   "id": "b586425c",
   "metadata": {},
   "outputs": [],
   "source": [
    "print(\"writeData = {}\".format(writeData))\n",
    "interface.write_scalar_data(writeDataId, vertexId, writeData)"
   ]
  },
  {
   "cell_type": "code",
   "execution_count": null,
   "id": "3d9e0b04",
   "metadata": {},
   "outputs": [],
   "source": [
    "precice_dt = interface.advance(precice_dt)\n",
    "print(\"precice_dt = {}\".format(precice_dt))"
   ]
  },
  {
   "cell_type": "code",
   "execution_count": null,
   "id": "ff42eb82",
   "metadata": {},
   "outputs": [],
   "source": [
    "interface.is_time_window_complete()"
   ]
  },
  {
   "cell_type": "markdown",
   "id": "cf53bc06",
   "metadata": {},
   "source": [
    "### Second window:\n",
    "... same procedure as before."
   ]
  },
  {
   "cell_type": "code",
   "execution_count": null,
   "id": "d020ecde",
   "metadata": {},
   "outputs": [],
   "source": [
    "window = 2\n",
    "iteration = 1\n",
    "\n",
    "while interface.is_coupling_ongoing():\n",
    "    if interface.is_action_required(precice.action_write_iteration_checkpoint()):\n",
    "        interface.mark_action_fulfilled(precice.action_write_iteration_checkpoint())\n",
    "        \n",
    "    readData = interface.read_scalar_data(readDataId, vertexId)\n",
    "    print(\"readData = {}\".format(readData))\n",
    "    \n",
    "    writeData = dummyFluidSolver(writeData, readData, precice_dt)\n",
    "    \n",
    "    print(\"writeData = {}\".format(writeData))\n",
    "    interface.write_scalar_data(writeDataId, vertexId, writeData)\n",
    "    \n",
    "    precice_dt = interface.advance(precice_dt)\n",
    "    print(\"precice_dt = {}\".format(precice_dt))\n",
    "    \n",
    "    if interface.is_time_window_complete():\n",
    "        window += 1\n",
    "        iteration = 1\n",
    "    if interface.is_action_required(precice.action_read_iteration_checkpoint()):\n",
    "        iteration += 1\n",
    "        \n",
    "    if interface.is_coupling_ongoing():\n",
    "        print(\"window = {}\".format(window))\n",
    "        print(\"iteration = {}\".format(iteration))\n",
    "        \n",
    "    if interface.is_action_required(precice.action_read_iteration_checkpoint()):\n",
    "        interface.mark_action_fulfilled(precice.action_read_iteration_checkpoint())\n",
    "        \n",
    "print(\"Done!\")\n",
    "interface.finalize()"
   ]
  }
 ],
 "metadata": {
  "kernelspec": {
   "display_name": "Python 3 (ipykernel)",
   "language": "python",
   "name": "python3"
  },
  "language_info": {
   "codemirror_mode": {
    "name": "ipython",
    "version": 3
   },
   "file_extension": ".py",
   "mimetype": "text/x-python",
   "name": "python",
   "nbconvert_exporter": "python",
   "pygments_lexer": "ipython3",
   "version": "3.8.10"
  }
 },
 "nbformat": 4,
 "nbformat_minor": 5
}
