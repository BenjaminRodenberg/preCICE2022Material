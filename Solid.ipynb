{
 "cells": [
  {
   "cell_type": "markdown",
   "id": "383682a9",
   "metadata": {},
   "source": [
    "**Disclaimer:** The distributed notebook only serves for demonstration purposes. Jupyter notebooks are not recommended for preCICE development or deployment. Feel free to convert this notebook to a plain python script for improved error messages using `jupyter nbconvert --to python Solver*.ipynb`"
   ]
  },
  {
   "cell_type": "code",
   "execution_count": null,
   "id": "00f58737",
   "metadata": {},
   "outputs": [],
   "source": [
    "def dummySolidSolver(x, y, dt):\n",
    "    return x + dt * y**2"
   ]
  },
  {
   "cell_type": "code",
   "execution_count": null,
   "id": "da330fb1",
   "metadata": {
    "scrolled": true
   },
   "outputs": [],
   "source": [
    "import precice\n",
    "precice_config = \"precice-config-both-init.xml\"\n",
    "#precice_config = \"precice-config-init-serial.xml\"\n",
    "#precice_config = \"precice-config-experimental-both-init.xml\"\n",
    "interface = precice.Interface(\"Solid\", precice_config, 0,1)\n",
    "meshId = interface.get_mesh_id(\"Solid-Mesh\")\n",
    "vertexId = interface.set_mesh_vertex(meshId, [1,2,3])\n",
    "readDataId = interface.get_data_id(\"Force\", meshId)\n",
    "writeDataId = interface.get_data_id(\"Displacement\", meshId)"
   ]
  },
  {
   "cell_type": "code",
   "execution_count": null,
   "id": "677ce7f3",
   "metadata": {
    "scrolled": true
   },
   "outputs": [],
   "source": [
    "precice_dt = interface.initialize()"
   ]
  },
  {
   "cell_type": "markdown",
   "id": "bb21ecf7",
   "metadata": {},
   "source": [
    "### Initialize data\n",
    "optional, if `initialize = \"false\"` or not given"
   ]
  },
  {
   "cell_type": "code",
   "execution_count": null,
   "id": "90009283",
   "metadata": {},
   "outputs": [],
   "source": [
    "initDisplacement = 2\n",
    "writeData = initDisplacement\n",
    "interface.write_scalar_data(writeDataId, vertexId, writeData)"
   ]
  },
  {
   "cell_type": "code",
   "execution_count": null,
   "id": "2582ccf5",
   "metadata": {},
   "outputs": [],
   "source": [
    "interface.mark_action_fulfilled(precice.action_write_initial_data())"
   ]
  },
  {
   "cell_type": "code",
   "execution_count": null,
   "id": "349a8e25",
   "metadata": {},
   "outputs": [],
   "source": [
    "interface.initialize_data()"
   ]
  },
  {
   "cell_type": "markdown",
   "id": "94e8a878",
   "metadata": {},
   "source": [
    "### First window, first iteration\n",
    "\n",
    "require to write checkpoint, when entering window:"
   ]
  },
  {
   "cell_type": "code",
   "execution_count": null,
   "id": "3823d019",
   "metadata": {},
   "outputs": [],
   "source": [
    "interface.mark_action_fulfilled(precice.action_write_iteration_checkpoint())"
   ]
  },
  {
   "cell_type": "code",
   "execution_count": null,
   "id": "6dfdd912",
   "metadata": {
    "scrolled": true
   },
   "outputs": [],
   "source": [
    "readData = interface.read_scalar_data(readDataId, vertexId)\n",
    "print(\"readData = {}\".format(readData))"
   ]
  },
  {
   "cell_type": "code",
   "execution_count": null,
   "id": "7a57e7a6",
   "metadata": {
    "scrolled": true
   },
   "outputs": [],
   "source": [
    "writeData = dummySolidSolver(writeData, readData, precice_dt)"
   ]
  },
  {
   "cell_type": "code",
   "execution_count": null,
   "id": "9494480a",
   "metadata": {},
   "outputs": [],
   "source": [
    "print(\"writeData = {}\".format(writeData))\n",
    "interface.write_scalar_data(writeDataId, vertexId, writeData)"
   ]
  },
  {
   "cell_type": "code",
   "execution_count": null,
   "id": "b7921c5b",
   "metadata": {
    "scrolled": true
   },
   "outputs": [],
   "source": [
    "precice_dt = interface.advance(precice_dt)\n",
    "print(\"precice_dt = {}\".format(precice_dt))"
   ]
  },
  {
   "cell_type": "code",
   "execution_count": null,
   "id": "9f3f4634",
   "metadata": {},
   "outputs": [],
   "source": [
    "interface.is_time_window_complete()"
   ]
  },
  {
   "cell_type": "markdown",
   "id": "b78bccf0",
   "metadata": {},
   "source": [
    "### First window, second iteration\n",
    "require to read checkpoint, when repeating window:"
   ]
  },
  {
   "cell_type": "code",
   "execution_count": null,
   "id": "948d9b40",
   "metadata": {},
   "outputs": [],
   "source": [
    "interface.mark_action_fulfilled(precice.action_read_iteration_checkpoint())"
   ]
  },
  {
   "cell_type": "code",
   "execution_count": null,
   "id": "5f9a634e",
   "metadata": {},
   "outputs": [],
   "source": [
    "readData = interface.read_scalar_data(readDataId, vertexId)\n",
    "print(\"readData = {}\".format(readData))"
   ]
  },
  {
   "cell_type": "code",
   "execution_count": null,
   "id": "f79c11f8",
   "metadata": {},
   "outputs": [],
   "source": [
    "writeData = dummySolidSolver(writeData, readData, precice_dt)"
   ]
  },
  {
   "cell_type": "code",
   "execution_count": null,
   "id": "485298b2",
   "metadata": {},
   "outputs": [],
   "source": [
    "print(\"writeData = {}\".format(writeData))\n",
    "interface.write_scalar_data(writeDataId, vertexId, writeData)"
   ]
  },
  {
   "cell_type": "code",
   "execution_count": null,
   "id": "90b4a407",
   "metadata": {
    "scrolled": true
   },
   "outputs": [],
   "source": [
    "precice_dt = interface.advance(precice_dt)\n",
    "print(\"precice_dt = {}\".format(precice_dt))"
   ]
  },
  {
   "cell_type": "code",
   "execution_count": null,
   "id": "61071917",
   "metadata": {},
   "outputs": [],
   "source": [
    "interface.is_time_window_complete()"
   ]
  },
  {
   "cell_type": "markdown",
   "id": "ed0080d7",
   "metadata": {},
   "source": [
    "### Second window:\n",
    "... same procedure as before."
   ]
  },
  {
   "cell_type": "code",
   "execution_count": null,
   "id": "a25c5808",
   "metadata": {},
   "outputs": [],
   "source": [
    "window = 2\n",
    "iteration = 1\n",
    "\n",
    "while interface.is_coupling_ongoing():\n",
    "    if interface.is_action_required(precice.action_write_iteration_checkpoint()):\n",
    "        interface.mark_action_fulfilled(precice.action_write_iteration_checkpoint())\n",
    "        \n",
    "    readData = interface.read_scalar_data(readDataId, vertexId)\n",
    "    print(\"readData = {}\".format(readData))\n",
    "    \n",
    "    writeData = dummySolidSolver(writeData, readData, precice_dt)\n",
    "    \n",
    "    print(\"writeData = {}\".format(writeData))\n",
    "    interface.write_scalar_data(writeDataId, vertexId, writeData)\n",
    "    \n",
    "    precice_dt = interface.advance(precice_dt)\n",
    "    print(\"precice_dt = {}\".format(precice_dt))\n",
    "    \n",
    "    if interface.is_time_window_complete():\n",
    "        window += 1\n",
    "        iteration = 1\n",
    "    if interface.is_action_required(precice.action_read_iteration_checkpoint()):\n",
    "        iteration += 1\n",
    "    \n",
    "    if interface.is_coupling_ongoing():\n",
    "        print(\"window={}\".format(window))\n",
    "        print(\"iteration={}\".format(iteration))\n",
    "        \n",
    "    if interface.is_action_required(precice.action_read_iteration_checkpoint()):\n",
    "        interface.mark_action_fulfilled(precice.action_read_iteration_checkpoint())\n",
    "        \n",
    "print(\"Done!\")\n",
    "interface.finalize()"
   ]
  },
  {
   "cell_type": "code",
   "execution_count": null,
   "id": "3c9ef80b",
   "metadata": {},
   "outputs": [],
   "source": []
  }
 ],
 "metadata": {
  "kernelspec": {
   "display_name": "Python 3 (ipykernel)",
   "language": "python",
   "name": "python3"
  },
  "language_info": {
   "codemirror_mode": {
    "name": "ipython",
    "version": 3
   },
   "file_extension": ".py",
   "mimetype": "text/x-python",
   "name": "python",
   "nbconvert_exporter": "python",
   "pygments_lexer": "ipython3",
   "version": "3.8.10"
  }
 },
 "nbformat": 4,
 "nbformat_minor": 5
}
